{
 "cells": [
  {
   "cell_type": "markdown",
   "metadata": {},
   "source": [
    "REALIZANDO UM FORK NO GITHUB"
   ]
  },
  {
   "cell_type": "code",
   "execution_count": 2,
   "metadata": {},
   "outputs": [],
   "source": [
    "import requests\n",
    "import pandas as pd"
   ]
  },
  {
   "cell_type": "code",
   "execution_count": 9,
   "metadata": {},
   "outputs": [
    {
     "name": "stdout",
     "output_type": "stream",
     "text": [
      "202\n"
     ]
    }
   ],
   "source": [
    "#Usando endpoints para para definir a url\n",
    "owner = 'amzn'\n",
    "url_base = 'https://api.github.com'\n",
    "repo = 'supply-chain-simulation-environment'\n",
    "\n",
    "url = f'{url_base}/repos/{owner}/{repo}/forks'\n",
    "\n",
    "#definindo o headers\n",
    "access_token = 'xxx'\n",
    "headers = {'Authorization': 'Bearer ' + access_token,\n",
    "           'X-GitHub-Api-Version': '2022-11-28'}\n",
    "\n",
    "#fazendo requisição post\n",
    "response = requests.post(url, headers=headers)\n",
    "print(response.status_code)"
   ]
  }
 ],
 "metadata": {
  "kernelspec": {
   "display_name": "venv",
   "language": "python",
   "name": "python3"
  },
  "language_info": {
   "codemirror_mode": {
    "name": "ipython",
    "version": 3
   },
   "file_extension": ".py",
   "mimetype": "text/x-python",
   "name": "python",
   "nbconvert_exporter": "python",
   "pygments_lexer": "ipython3",
   "version": "3.10.12"
  }
 },
 "nbformat": 4,
 "nbformat_minor": 2
}
